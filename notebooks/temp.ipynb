{
 "cells": [
  {
   "cell_type": "code",
   "execution_count": 4,
   "metadata": {},
   "outputs": [],
   "source": [
    "import pandas as pd\n",
    "import os\n",
    "import json"
   ]
  },
  {
   "cell_type": "code",
   "execution_count": 24,
   "metadata": {},
   "outputs": [],
   "source": [
    "# convert all of the csvs in a folder to one csv with duplicates dropped\n",
    "def hist_csvs_to_csv(csv_folder, csv_file):\n",
    "    csvs = [f\"{csv_folder}/{i}\" for i in os.listdir(csv_folder)]\n",
    "    dfs = [pd.read_csv(csv) for csv in csvs]\n",
    "    # grab certain columns and drop duplicates\n",
    "    cols = [\"CARDOFFICE_CARD_NUMBER\", \"CARD_ID_STATUS\", \"RIDE_DATE\", \"MONTH_YEAR\", \"HOUR\", \"ROUTE\", \"EMPLOYEE_OR_STUDENT\", \"CAMPUS_ID\"]\n",
    "    # add a column for MONTH_YEAR\n",
    "    for i in range(len(dfs)):\n",
    "        dfs[i][\"RIDE_DATE\"] = pd.to_datetime(dfs[i][\"RIDE_DATE\"])\n",
    "        dfs[i][\"MONTH_YEAR\"] = dfs[i][\"RIDE_DATE\"].dt.strftime('%Y-%m')\n",
    "        dfs[i][\"HOUR\"] = dfs[i][\"RIDE_DATE\"].dt.hour\n",
    "    for i in range(len(dfs)):\n",
    "        dfs[i] = dfs[i][cols]\n",
    "    df = pd.concat(dfs).drop_duplicates()\n",
    "    df.to_csv(csv_file)\n",
    "\n",
    "if __name__ == \"__main__\":\n",
    "    hist_csvs_to_csv(\"../public/data/historical/unprocessed\", \"../public/data/historical/historical_data.csv\")\n"
   ]
  },
  {
   "cell_type": "code",
   "execution_count": 25,
   "metadata": {},
   "outputs": [
    {
     "name": "stdout",
     "output_type": "stream",
     "text": [
      "2017-01-01 06:54:00+00:00 2024-08-31 23:30:08+00:00\n"
     ]
    }
   ],
   "source": [
    "# give me the min and max date of the data\n",
    "def min_max_date(df):\n",
    "    min_date = df[\"RIDE_DATE\"].min()\n",
    "    max_date = df[\"RIDE_DATE\"].max()\n",
    "    return min_date, max_date\n",
    "\n",
    "# import the csv\n",
    "df = pd.read_csv(\"../public/data/historical/historical_data.csv\")\n",
    "min_date, max_date = min_max_date(df)\n",
    "print(min_date, max_date)"
   ]
  },
  {
   "cell_type": "code",
   "execution_count": 27,
   "metadata": {},
   "outputs": [
    {
     "name": "stdout",
     "output_type": "stream",
     "text": [
      "(1999072, 9)\n"
     ]
    }
   ],
   "source": [
    "# print size of the data\n",
    "print(df.shape)"
   ]
  },
  {
   "cell_type": "code",
   "execution_count": 30,
   "metadata": {},
   "outputs": [],
   "source": [
    "# quickticket processing\n",
    "# read all the csvs in the quickticket folder and convert them to one csv\n",
    "# convert all of the csvs in a folder to one csv with duplicates dropped\n",
    "def qt_csvs_to_csv(csv_folder, csv_file):\n",
    "    csvs = [f\"{csv_folder}/{i}\" for i in os.listdir(csv_folder)]\n",
    "    dfs = [pd.read_csv(csv) for csv in csvs]\n",
    "    # grab certain columns and drop duplicates\n",
    "    cols = [\"Card Office Card Number\",\"Campus/VUNetID\",\"Ride Date\",\"Route\"]\n",
    "    # add a column for MONTH_YEAR\n",
    "    for i in range(len(dfs)):\n",
    "        dfs[i] = dfs[i][cols]\n",
    "        # rename these columns\n",
    "        dfs[i].columns = [\"CARDOFFICE_CARD_NUMBER\", \"CAMPUS_ID\", \"RIDE_DATE\", \"ROUTE\"]\n",
    "        dfs[i][\"RIDE_DATE\"] = pd.to_datetime(dfs[i][\"RIDE_DATE\"])\n",
    "        dfs[i][\"MONTH_YEAR\"] = dfs[i][\"RIDE_DATE\"].dt.strftime('%Y-%m')\n",
    "        # list all columns\n",
    "        print(dfs[i].columns)\n",
    "    df = pd.concat(dfs).drop_duplicates()\n",
    "    print(df.columns)\n",
    "    df.to_csv(csv_file)"
   ]
  },
  {
   "cell_type": "code",
   "execution_count": 31,
   "metadata": {},
   "outputs": [
    {
     "name": "stdout",
     "output_type": "stream",
     "text": [
      "Index(['CARDOFFICE_CARD_NUMBER', 'CAMPUS_ID', 'RIDE_DATE', 'ROUTE',\n",
      "       'MONTH_YEAR'],\n",
      "      dtype='object')\n",
      "Index(['CARDOFFICE_CARD_NUMBER', 'CAMPUS_ID', 'RIDE_DATE', 'ROUTE',\n",
      "       'MONTH_YEAR'],\n",
      "      dtype='object')\n",
      "Index(['CARDOFFICE_CARD_NUMBER', 'CAMPUS_ID', 'RIDE_DATE', 'ROUTE',\n",
      "       'MONTH_YEAR'],\n",
      "      dtype='object')\n"
     ]
    }
   ],
   "source": [
    "if __name__ == \"__main__\":\n",
    "    qt_csvs_to_csv(\"../public/data/quickticket/unprocessed\", \"../public/data/quickticket/quickticket.csv\")"
   ]
  },
  {
   "cell_type": "code",
   "execution_count": 38,
   "metadata": {},
   "outputs": [
    {
     "name": "stdout",
     "output_type": "stream",
     "text": [
      "   Unnamed: 0  CARDOFFICE_CARD_NUMBER CAMPUS_ID  RIDE_DATE ROUTE MONTH_YEAR\n",
      "0           0            1.526588e+15    dengz2 2024-07-01     7    2024-07\n",
      "1           2            2.018917e+14   dingay1 2024-07-01    17    2024-07\n",
      "2           3            6.151004e+11   madrige 2024-07-01    50    2024-07\n",
      "3           5            1.286867e+15    dengs2 2024-07-02     3    2024-07\n",
      "4           7            1.526588e+15    dengz2 2024-07-02     7    2024-07\n",
      "2024-07-01 00:00:00 2024-08-30 00:00:00\n"
     ]
    }
   ],
   "source": [
    "# give me the min and max date of the data\n",
    "def min_max_date(df):\n",
    "    \n",
    "    return min_date, max_date\n",
    "\n",
    "# import the csv\n",
    "qt_df = pd.read_csv(\"../public/data/quickticket/quickticket.csv\")\n",
    "# convert to datetime\n",
    "qt_df[\"RIDE_DATE\"] = pd.to_datetime(qt_df[\"RIDE_DATE\"])\n",
    "print(qt_df.head())\n",
    "min_date = qt_df[\"RIDE_DATE\"].min()\n",
    "max_date = qt_df[\"RIDE_DATE\"].max()\n",
    "print(min_date, max_date)"
   ]
  }
 ],
 "metadata": {
  "kernelspec": {
   "display_name": "vanderbilt_movevu",
   "language": "python",
   "name": "python3"
  },
  "language_info": {
   "codemirror_mode": {
    "name": "ipython",
    "version": 3
   },
   "file_extension": ".py",
   "mimetype": "text/x-python",
   "name": "python",
   "nbconvert_exporter": "python",
   "pygments_lexer": "ipython3",
   "version": "3.12.2"
  }
 },
 "nbformat": 4,
 "nbformat_minor": 2
}
