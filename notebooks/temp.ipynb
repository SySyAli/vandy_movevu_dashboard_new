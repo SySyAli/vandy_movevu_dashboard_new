{
 "cells": [
  {
   "cell_type": "code",
   "execution_count": 1,
   "metadata": {},
   "outputs": [],
   "source": [
    "import pandas as pd\n",
    "import os\n",
    "import json"
   ]
  },
  {
   "cell_type": "code",
   "execution_count": 3,
   "metadata": {},
   "outputs": [],
   "source": [
    "# convert all of the csvs in a folder to one csv with duplicates dropped\n",
    "def csvs_to_csv(csv_folder, csv_file):\n",
    "    csvs = [f\"{csv_folder}/{i}\" for i in os.listdir(csv_folder)]\n",
    "    dfs = [pd.read_csv(csv) for csv in csvs]\n",
    "    # grab certain columns and drop duplicates\n",
    "    cols = [\"CARDOFFICE_CARD_NUMBER\", \"CARD_ID_STATUS\", \"RIDE_DATE\", \"MONTH_YEAR\", \"HOUR\", \"ROUTE\", \"FIRST_NAME\", \"LAST_NAME\", \"EMPLOYEE_OR_STUDENT\", \"CAMPUS_ID\"]\n",
    "    # add a column for MONTH_YEAR\n",
    "    for i in range(len(dfs)):\n",
    "        dfs[i][\"RIDE_DATE\"] = pd.to_datetime(dfs[i][\"RIDE_DATE\"])\n",
    "        dfs[i][\"MONTH_YEAR\"] = dfs[i][\"RIDE_DATE\"].dt.strftime('%Y-%m')\n",
    "        dfs[i][\"HOUR\"] = dfs[i][\"RIDE_DATE\"].dt.hour\n",
    "    for i in range(len(dfs)):\n",
    "        dfs[i] = dfs[i][cols]\n",
    "    df = pd.concat(dfs).drop_duplicates()\n",
    "    df.to_csv(csv_file)\n",
    "\n",
    "if __name__ == \"__main__\":\n",
    "    csvs_to_csv(\"../public/data/historical/unprocessed\", \"../public/data/historical/historical_data.csv\")\n"
   ]
  },
  {
   "cell_type": "code",
   "execution_count": 5,
   "metadata": {},
   "outputs": [
    {
     "name": "stdout",
     "output_type": "stream",
     "text": [
      "2017-01-01 06:54:00+00:00 2024-08-31 23:30:08+00:00\n"
     ]
    }
   ],
   "source": [
    "# give me the min and max date of the data\n",
    "def min_max_date(df):\n",
    "    min_date = df[\"RIDE_DATE\"].min()\n",
    "    max_date = df[\"RIDE_DATE\"].max()\n",
    "    return min_date, max_date\n",
    "\n",
    "# import the csv\n",
    "df = pd.read_csv(\"../public/data/historical/historical_data.csv\")\n",
    "min_date, max_date = min_max_date(df)\n",
    "print(min_date, max_date)"
   ]
  },
  {
   "cell_type": "code",
   "execution_count": null,
   "metadata": {},
   "outputs": [],
   "source": [
    "# quickticket processing"
   ]
  }
 ],
 "metadata": {
  "kernelspec": {
   "display_name": "vanderbilt_movevu",
   "language": "python",
   "name": "python3"
  },
  "language_info": {
   "codemirror_mode": {
    "name": "ipython",
    "version": 3
   },
   "file_extension": ".py",
   "mimetype": "text/x-python",
   "name": "python",
   "nbconvert_exporter": "python",
   "pygments_lexer": "ipython3",
   "version": "3.12.2"
  }
 },
 "nbformat": 4,
 "nbformat_minor": 2
}
